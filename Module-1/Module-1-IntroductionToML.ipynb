{
 "cells": [
  {
   "cell_type": "markdown",
   "id": "5c00474f",
   "metadata": {},
   "source": [
    "\n",
    "# Module 1: Introduction to Machine Learning\n",
    "\n",
    "**Learning Objectives**\n",
    "- Define machine learning and explain its significance.\n",
    "- Identify the main types of machine learning (supervised, unsupervised).\n",
    "- Understand the role of key Python libraries (scikit-learn, pandas, TensorFlow, NumPy).\n"
   ]
  },
  {
   "cell_type": "markdown",
   "id": "77244128",
   "metadata": {},
   "source": [
    "\n",
    "## What is Machine Learning?\n",
    "\n",
    "Machine Learning (ML) is about teaching computers to learn patterns from data and use those patterns to make predictions or decisions.  \n",
    "Unlike traditional programming, where humans write explicit rules, ML systems infer the rules from examples.\n",
    "\n",
    "Mathematically, we can think of ML as finding a function:\n",
    "\n",
    "$ \\hat{y} = f_\\theta(x) $\n",
    "\n",
    "where:  \n",
    "- $x$: the input features (e.g., hours studied, attendance).  \n",
    "- $\\hat{y}$: the model’s prediction (e.g., whether a student passes or fails).  \n",
    "- $\\theta$: the learned parameters (the model's internal settings that determine how inputs map to predictions).\n",
    "\n",
    "**Example**: If $x$ is the number of hours a student studied, $\\hat{y}$ might be the probability that the student passes. The function $f_\\theta$ could be a logistic regression model.\n"
   ]
  },
  {
   "cell_type": "markdown",
   "id": "5a0fafb9",
   "metadata": {},
   "source": [
    "\n",
    "## Why Machine Learning Matters\n",
    "\n",
    "- Automates complex tasks (e.g., fraud detection, medical diagnosis).  \n",
    "- Supports data-driven decisions.  \n",
    "- Powers personalization (e.g., Netflix, Spotify).  \n",
    "- Improves efficiency and accuracy.  \n",
    "\n",
    "For students: ML is the engine behind course recommendation systems, budgeting apps, and even predictive text in your messages.\n"
   ]
  },
  {
   "cell_type": "markdown",
   "id": "8b84d6a7",
   "metadata": {},
   "source": [
    "\n",
    "## Supervised Learning Example\n",
    "\n",
    "In supervised learning, models are trained on labeled data.  \n",
    "We can formalize this as:\n",
    "\n",
    "$ y = f_\\theta(x) + \\epsilon $\n",
    "\n",
    "where:  \n",
    "- $y$: the true outcome (e.g., pass = 1, fail = 0).  \n",
    "- $x$: input features (study hours, attendance).  \n",
    "- $f_\\theta$: the model’s prediction rule.  \n",
    "- $\\epsilon$: error term (captures randomness or noise).\n",
    "\n",
    "**Example**: Predicting whether a student passes based on study habits.\n"
   ]
  },
  {
   "cell_type": "code",
   "execution_count": 1,
   "id": "267c6bf1",
   "metadata": {},
   "outputs": [
    {
     "name": "stdout",
     "output_type": "stream",
     "text": [
      "Accuracy: 0.9333333333333333\n",
      "Confusion Matrix:\n",
      " [[14  0]\n",
      " [ 1  0]]\n"
     ]
    }
   ],
   "source": [
    "\n",
    "import pandas as pd\n",
    "import numpy as np\n",
    "from sklearn.model_selection import train_test_split\n",
    "from sklearn.linear_model import LogisticRegression\n",
    "from sklearn.metrics import accuracy_score, confusion_matrix\n",
    "\n",
    "# Create synthetic dataset: study habits\n",
    "np.random.seed(42)\n",
    "n = 50\n",
    "hours_studied = np.random.randint(0, 20, n)\n",
    "attendance_rate = np.random.randint(50, 100, n)\n",
    "\n",
    "# Rule for pass/fail (hidden ground truth)\n",
    "passed = (hours_studied * 0.5 + attendance_rate * 0.3 + np.random.normal(0,5,n)) > 40\n",
    "passed = passed.astype(int)\n",
    "\n",
    "df = pd.DataFrame({\n",
    "    \"hours_studied\": hours_studied,\n",
    "    \"attendance_rate\": attendance_rate,\n",
    "    \"passed\": passed\n",
    "})\n",
    "\n",
    "# Split dataset\n",
    "X = df[[\"hours_studied\", \"attendance_rate\"]]\n",
    "y = df[\"passed\"]\n",
    "X_train, X_test, y_train, y_test = train_test_split(X, y, test_size=0.3, random_state=42)\n",
    "\n",
    "# Train logistic regression model\n",
    "model = LogisticRegression()\n",
    "model.fit(X_train, y_train)\n",
    "\n",
    "# Predictions\n",
    "y_pred = model.predict(X_test)\n",
    "\n",
    "print(\"Accuracy:\", accuracy_score(y_test, y_pred))\n",
    "print(\"Confusion Matrix:\\n\", confusion_matrix(y_test, y_pred))\n"
   ]
  },
  {
   "cell_type": "markdown",
   "id": "323bbb99",
   "metadata": {},
   "source": [
    "\n",
    "**Interpretation**  \n",
    "- The coefficients in $f_\\theta$ show how study hours and attendance contribute to passing probability.  \n",
    "- The confusion matrix compares predicted vs actual outcomes.  \n",
    "- A false negative means a student who should have passed was predicted as failing — and vice versa.\n"
   ]
  },
  {
   "cell_type": "markdown",
   "id": "bf89e5d3",
   "metadata": {},
   "source": [
    "\n",
    "## Unsupervised Learning Example\n",
    "\n",
    "In unsupervised learning, the model finds hidden patterns without labeled outcomes.  \n",
    "\n",
    "One common method is **clustering**, formalized as:  \n",
    "\n",
    "$ \\text{Cluster}(x_i) = \\arg\\min_k \\; \\| x_i - \\mu_k \\|^2 $  \n",
    "\n",
    "where:  \n",
    "- $x_i$: a data point (e.g., a student’s expenses).  \n",
    "- $\\mu_k$: the center of cluster $k$.  \n",
    "- The algorithm assigns each student to the closest cluster center.\n",
    "\n",
    "**Example**: Grouping students by monthly cost-of-living.\n"
   ]
  },
  {
   "cell_type": "code",
   "execution_count": null,
   "id": "3049b2f6",
   "metadata": {},
   "outputs": [],
   "source": [
    "\n",
    "from sklearn.cluster import KMeans\n",
    "from sklearn.decomposition import PCA\n",
    "import matplotlib.pyplot as plt\n",
    "\n",
    "# Synthetic dataset: student monthly expenses\n",
    "np.random.seed(42)\n",
    "n = 50\n",
    "rent = np.random.randint(400, 1200, n)\n",
    "groceries = np.random.randint(150, 400, n)\n",
    "transport = np.random.randint(50, 200, n)\n",
    "wifi = np.random.randint(30, 100, n)\n",
    "\n",
    "X = pd.DataFrame({\n",
    "    \"rent\": rent,\n",
    "    \"groceries\": groceries,\n",
    "    \"transport\": transport,\n",
    "    \"wifi\": wifi\n",
    "})\n",
    "\n",
    "# KMeans clustering\n",
    "kmeans = KMeans(n_clusters=3, random_state=42, n_init=10)\n",
    "labels = kmeans.fit_predict(X)\n",
    "\n",
    "# Reduce to 2D for visualization\n",
    "pca = PCA(n_components=2)\n",
    "X_pca = pca.fit_transform(X)\n",
    "\n",
    "plt.scatter(X_pca[:,0], X_pca[:,1], c=labels, cmap=\"viridis\")\n",
    "plt.title(\"Student Cost-of-Living Clusters\")\n",
    "plt.xlabel(\"PCA Component 1\")\n",
    "plt.ylabel(\"PCA Component 2\")\n",
    "plt.show()\n"
   ]
  },
  {
   "cell_type": "markdown",
   "id": "ff489ecc",
   "metadata": {},
   "source": [
    "\n",
    "**Interpretation**  \n",
    "- Each color shows a group of students with similar expenses.  \n",
    "- Cluster examples:  \n",
    "  - **High-rent group**: students paying a lot for housing.  \n",
    "  - **Balanced group**: average spending.  \n",
    "  - **Frugal group**: low rent and fewer expenses.  \n",
    "- This can guide budgeting strategies or student support programs.\n"
   ]
  },
  {
   "cell_type": "markdown",
   "id": "06c4456e",
   "metadata": {},
   "source": [
    "\n",
    "## Quick Tour of Python Tools\n",
    "\n",
    "### pandas\n",
    "Used for handling tabular data and preprocessing before modeling.\n"
   ]
  },
  {
   "cell_type": "code",
   "execution_count": null,
   "id": "b1c577b7",
   "metadata": {},
   "outputs": [],
   "source": [
    "\n",
    "# Create DataFrame with a missing value\n",
    "df_tools = pd.DataFrame({\n",
    "    \"hours\": [10, 8, None, 15],\n",
    "    \"quiz_avg\": [80, 75, 60, 90]\n",
    "})\n",
    "print(\"Original DataFrame:\\n\", df_tools)\n",
    "\n",
    "# Handle missing value\n",
    "df_tools[\"hours\"].fillna(df_tools[\"hours\"].mean(), inplace=True)\n",
    "print(\"\\nAfter filling missing value:\\n\", df_tools)\n"
   ]
  },
  {
   "cell_type": "markdown",
   "id": "f4484799",
   "metadata": {},
   "source": [
    "\n",
    "### scikit-learn  \n",
    "We used it for classification and clustering above.  \n",
    "It provides ready-to-use implementations for most ML algorithms.\n"
   ]
  },
  {
   "cell_type": "markdown",
   "id": "dbf01b5b",
   "metadata": {},
   "source": [
    "\n",
    "### NumPy\n",
    "Enables efficient numerical computations.\n"
   ]
  },
  {
   "cell_type": "code",
   "execution_count": null,
   "id": "fa281eb3",
   "metadata": {},
   "outputs": [],
   "source": [
    "\n",
    "# Z-score normalization with NumPy\n",
    "scores = np.array([70, 75, 80, 85, 90])\n",
    "z_scores = (scores - scores.mean()) / scores.std()\n",
    "print(\"Scores:\", scores)\n",
    "print(\"Z-scores:\", z_scores)\n"
   ]
  },
  {
   "cell_type": "markdown",
   "id": "01242344",
   "metadata": {},
   "source": [
    "\n",
    "### TensorFlow  \n",
    "A deep learning library for neural networks.  \n",
    "We will explore it in detail later (Modules 8–9).\n"
   ]
  },
  {
   "cell_type": "markdown",
   "id": "30d932a8",
   "metadata": {},
   "source": [
    "\n",
    "## Applications of ML\n",
    "\n",
    "- **Healthcare**: disease diagnosis, medical image analysis.  \n",
    "- **Finance**: fraud detection, credit scoring.  \n",
    "- **Marketing**: customer segmentation, recommendation systems.  \n",
    "- **NLP**: sentiment analysis, chatbots.  \n"
   ]
  },
  {
   "cell_type": "markdown",
   "id": "09957372",
   "metadata": {},
   "source": [
    "\n",
    "## Wrap-up\n",
    "\n",
    "- ML helps systems learn from data instead of explicit rules.  \n",
    "- Supervised learning predicts outcomes from labeled data.  \n",
    "- Unsupervised learning finds hidden patterns in unlabeled data.  \n",
    "- Python libraries like pandas, scikit-learn, NumPy, and TensorFlow are the backbone of ML practice.  \n",
    "\n",
    "**Next:** Supervised Learning in detail (Classification).\n"
   ]
  },
  {
   "cell_type": "markdown",
   "id": "960a0513",
   "metadata": {},
   "source": [
    "\n",
    "## References\n",
    "\n",
    "- [Microsoft Learn: Introduction to Machine Learning](https://learn.microsoft.com/en-us/training/modules/introduction-to-machine-learning/)  \n",
    "- [Google ML Crash Course](https://developers.google.com/machine-learning/crash-course)  \n"
   ]
  }
 ],
 "metadata": {
  "kernelspec": {
   "display_name": "PA-Venv",
   "language": "python",
   "name": "python3"
  },
  "language_info": {
   "codemirror_mode": {
    "name": "ipython",
    "version": 3
   },
   "file_extension": ".py",
   "mimetype": "text/x-python",
   "name": "python",
   "nbconvert_exporter": "python",
   "pygments_lexer": "ipython3",
   "version": "3.13.5"
  }
 },
 "nbformat": 4,
 "nbformat_minor": 5
}
